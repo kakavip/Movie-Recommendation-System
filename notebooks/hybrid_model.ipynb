{
  "cells": [
    {
      "cell_type": "markdown",
      "metadata": {
        "colab_type": "text",
        "id": "P20PDvjKLGAa"
      },
      "source": [
        "This model combines the recommendations generated from content-based, collaborative filtering and SVD model. The hybrid model overcomes the shortcomings of individual models and improves the diversity of the recommendations"
      ]
    },
    {
      "cell_type": "code",
      "execution_count": null,
      "metadata": {
        "colab": {},
        "colab_type": "code",
        "id": "25etssQM6opn"
      },
      "outputs": [],
      "source": [
        "!pip install surprise"
      ]
    },
    {
      "cell_type": "code",
      "execution_count": 5,
      "metadata": {
        "colab": {},
        "colab_type": "code",
        "id": "mIOtqgFOLKMq"
      },
      "outputs": [],
      "source": [
        "import pandas as pd\n",
        "import numpy as np"
      ]
    },
    {
      "cell_type": "code",
      "execution_count": 6,
      "metadata": {
        "colab": {},
        "colab_type": "code",
        "id": "thMttCZAJj3W"
      },
      "outputs": [],
      "source": [
        "from surprise import SVD, BaselineOnly, SVDpp, NMF, SlopeOne, CoClustering, Reader\n",
        "from surprise import Dataset\n",
        "from surprise.model_selection import cross_validate\n",
        "from surprise.prediction_algorithms import KNNBaseline, KNNBasic, KNNWithMeans, KNNWithZScore\n",
        "from surprise import accuracy\n",
        "from surprise.model_selection import train_test_split\n",
        "from surprise import dump"
      ]
    },
    {
      "cell_type": "code",
      "execution_count": 7,
      "metadata": {
        "colab": {},
        "colab_type": "code",
        "id": "F_JgqL5bK_F8"
      },
      "outputs": [],
      "source": [
        "from sklearn.feature_extraction.text import TfidfVectorizer, CountVectorizer\n",
        "from sklearn.metrics.pairwise import linear_kernel, cosine_similarity"
      ]
    },
    {
      "cell_type": "code",
      "execution_count": 8,
      "metadata": {
        "colab": {},
        "colab_type": "code",
        "id": "29jYY03OMPDb"
      },
      "outputs": [],
      "source": [
        "def convert_traintest_dataframe_forsurprise(training_dataframe, testing_dataframe):\n",
        "    reader = Reader(rating_scale=(0, 5))\n",
        "    trainset = Dataset.load_from_df(training_dataframe[['userId', 'movieId', 'rating']], reader)\n",
        "    testset = Dataset.load_from_df(testing_dataframe[['userId', 'movieId', 'rating']], reader)\n",
        "    trainset = trainset.construct_trainset(trainset.raw_ratings)\n",
        "    testset = testset.construct_testset(testset.raw_ratings)\n",
        "    return trainset, testset"
      ]
    },
    {
      "cell_type": "code",
      "execution_count": null,
      "metadata": {
        "colab": {},
        "colab_type": "code",
        "id": "8CraNAQ6QnQ3"
      },
      "outputs": [],
      "source": [
        "file_path_train = '../demo/preproc_data/training_data.csv'\n",
        "file_path_test = '../demo/preproc_data/testing_data.csv'\n",
        "traindf = pd.read_csv(file_path_train)\n",
        "testdf = pd.read_csv(file_path_test)\n",
        "trainset, testset = convert_traintest_dataframe_forsurprise(traindf, testdf)"
      ]
    },
    {
      "cell_type": "code",
      "execution_count": 11,
      "metadata": {
        "colab": {
          "base_uri": "https://localhost:8080/",
          "height": 195
        },
        "colab_type": "code",
        "id": "mRRpne42gSp5",
        "outputId": "1e96782a-867d-4e9a-9409-5fc485dad2ac"
      },
      "outputs": [
        {
          "data": {
            "text/html": [
              "<div>\n",
              "<style scoped>\n",
              "    .dataframe tbody tr th:only-of-type {\n",
              "        vertical-align: middle;\n",
              "    }\n",
              "\n",
              "    .dataframe tbody tr th {\n",
              "        vertical-align: top;\n",
              "    }\n",
              "\n",
              "    .dataframe thead th {\n",
              "        text-align: right;\n",
              "    }\n",
              "</style>\n",
              "<table border=\"1\" class=\"dataframe\">\n",
              "  <thead>\n",
              "    <tr style=\"text-align: right;\">\n",
              "      <th></th>\n",
              "      <th>userId</th>\n",
              "      <th>movieId</th>\n",
              "      <th>rating</th>\n",
              "      <th>timestamp</th>\n",
              "      <th>genres</th>\n",
              "      <th>tag</th>\n",
              "    </tr>\n",
              "  </thead>\n",
              "  <tbody>\n",
              "    <tr>\n",
              "      <th>0</th>\n",
              "      <td>1</td>\n",
              "      <td>50</td>\n",
              "      <td>5.0</td>\n",
              "      <td>964982931</td>\n",
              "      <td>['Crime', 'Mystery', 'Thriller']</td>\n",
              "      <td>[]</td>\n",
              "    </tr>\n",
              "    <tr>\n",
              "      <th>1</th>\n",
              "      <td>1</td>\n",
              "      <td>151</td>\n",
              "      <td>5.0</td>\n",
              "      <td>964984041</td>\n",
              "      <td>['Action', 'Drama', 'Romance', 'War']</td>\n",
              "      <td>[]</td>\n",
              "    </tr>\n",
              "    <tr>\n",
              "      <th>2</th>\n",
              "      <td>1</td>\n",
              "      <td>157</td>\n",
              "      <td>5.0</td>\n",
              "      <td>964984100</td>\n",
              "      <td>['Comedy', 'War']</td>\n",
              "      <td>[]</td>\n",
              "    </tr>\n",
              "    <tr>\n",
              "      <th>3</th>\n",
              "      <td>1</td>\n",
              "      <td>235</td>\n",
              "      <td>4.0</td>\n",
              "      <td>964980908</td>\n",
              "      <td>['Comedy', 'Drama']</td>\n",
              "      <td>[]</td>\n",
              "    </tr>\n",
              "    <tr>\n",
              "      <th>4</th>\n",
              "      <td>1</td>\n",
              "      <td>296</td>\n",
              "      <td>3.0</td>\n",
              "      <td>964982967</td>\n",
              "      <td>['Comedy', 'Crime', 'Drama', 'Thriller']</td>\n",
              "      <td>[]</td>\n",
              "    </tr>\n",
              "  </tbody>\n",
              "</table>\n",
              "</div>"
            ],
            "text/plain": [
              "   userId  movieId  rating  timestamp  \\\n",
              "0       1       50     5.0  964982931   \n",
              "1       1      151     5.0  964984041   \n",
              "2       1      157     5.0  964984100   \n",
              "3       1      235     4.0  964980908   \n",
              "4       1      296     3.0  964982967   \n",
              "\n",
              "                                     genres tag  \n",
              "0          ['Crime', 'Mystery', 'Thriller']  []  \n",
              "1     ['Action', 'Drama', 'Romance', 'War']  []  \n",
              "2                         ['Comedy', 'War']  []  \n",
              "3                       ['Comedy', 'Drama']  []  \n",
              "4  ['Comedy', 'Crime', 'Drama', 'Thriller']  []  "
            ]
          },
          "execution_count": 11,
          "metadata": {},
          "output_type": "execute_result"
        }
      ],
      "source": [
        "testdf.head()"
      ]
    },
    {
      "cell_type": "markdown",
      "metadata": {
        "colab_type": "text",
        "id": "s6kyI5Vib1SM"
      },
      "source": [
        "### CF and Latent Factor models:"
      ]
    },
    {
      "cell_type": "code",
      "execution_count": null,
      "metadata": {
        "colab": {},
        "colab_type": "code",
        "id": "YL62GPmxV1cq",
        "outputId": "b18b8fdc-929e-4a84-ff04-aa858da10439"
      },
      "outputs": [
        {
          "name": "stdout",
          "output_type": "stream",
          "text": [
            "Estimating biases using als...\n",
            "Computing the cosine similarity matrix...\n",
            "Done computing similarity matrix.\n",
            "RMSE: 0.9044\n",
            "MAE:  0.6960\n",
            "Done!\n"
          ]
        }
      ],
      "source": [
        "# basic collaborative filtering algorithm taking into account a baseline rating.\n",
        "sim_options = {'name': 'cosine',\n",
        "               'user_based': False  # compute  similarities between items\n",
        "               }\n",
        "knnbaseline_algo = KNNBaseline(sim_options=sim_options)\n",
        "\n",
        "knnbaseline_algo.fit(trainset)\n",
        "knnbaseline_predictions = knnbaseline_algo.test(testset)\n",
        "\n",
        "file_name = 'KnnBaseline_model'\n",
        "knn_model_path = \"../demo/models/\" + file_name\n",
        "dump.dump(knn_model_path, algo=knnbaseline_predictions)\n",
        "# _, loaded_algo = dump.load(knn_model_path)\n",
        "\n",
        "accuracy.rmse(knnbaseline_predictions)\n",
        "accuracy.mae(knnbaseline_predictions)\n",
        "print(\"Done!\")"
      ]
    },
    {
      "cell_type": "code",
      "execution_count": null,
      "metadata": {
        "colab": {},
        "colab_type": "code",
        "id": "LYhl8nM6bjdi",
        "outputId": "ad2f6c93-4c10-47eb-953c-76901dadb50c"
      },
      "outputs": [
        {
          "name": "stdout",
          "output_type": "stream",
          "text": [
            "RMSE: 0.8847\n",
            "MAE:  0.6762\n",
            "Done!\n"
          ]
        }
      ],
      "source": [
        "svd_algo = SVD()\n",
        "\n",
        "svd_algo.fit(trainset)\n",
        "svd_predictions = svd_algo.test(testset)\n",
        "\n",
        "file_name = 'svd_model'\n",
        "svd_model_path = \"../demo/models/\" + file_name\n",
        "dump.dump(svd_model_path, algo=svd_algo)\n",
        "# _, loaded_algo = dump.load(svd_model_path)\n",
        "\n",
        "accuracy.rmse(svd_predictions)\n",
        "accuracy.mae(svd_predictions)\n",
        "print(\"Done!\")"
      ]
    },
    {
      "cell_type": "code",
      "execution_count": null,
      "metadata": {
        "colab": {},
        "colab_type": "code",
        "id": "9_CuU86dbsSw",
        "outputId": "e74c5230-44f9-4096-e3b5-7c563be61c84"
      },
      "outputs": [
        {
          "name": "stdout",
          "output_type": "stream",
          "text": [
            "RMSE: 0.8741\n",
            "MAE:  0.6666\n",
            "Done!\n"
          ]
        }
      ],
      "source": [
        "svdpp_algo = SVDpp()\n",
        "\n",
        "svdpp_algo.fit(trainset)\n",
        "svdpp_predictions = svdpp_algo.test(testset)\n",
        "\n",
        "file_name = 'svdpp_model'\n",
        "svdpp_model_path = \"../demo/models/\" + file_name\n",
        "dump.dump(svdpp_model_path, algo=svdpp_algo)\n",
        "# _, loaded_algo = dump.load(svdpp_model_path)\n",
        "\n",
        "accuracy.rmse(svdpp_predictions)\n",
        "accuracy.mae(svdpp_predictions)\n",
        "print(\"Done!\")"
      ]
    },
    {
      "cell_type": "markdown",
      "metadata": {
        "colab_type": "text",
        "id": "KLw7wsbAc7be"
      },
      "source": [
        "##### Movie Similarity model"
      ]
    },
    {
      "cell_type": "code",
      "execution_count": 67,
      "metadata": {
        "colab": {},
        "colab_type": "code",
        "id": "nqNVwdyuc9_7"
      },
      "outputs": [],
      "source": [
        "movies = pd.read_csv(\"../demo/data/tmdb_5000_movies.csv\")"
      ]
    },
    {
      "cell_type": "code",
      "execution_count": 63,
      "metadata": {
        "colab": {},
        "colab_type": "code",
        "id": "2rSna44FtxMR"
      },
      "outputs": [],
      "source": [
        "genre_to_idx = {'Adventure': 0,\n",
        " 'Animation': 1,\n",
        " 'Children': 2,\n",
        " 'Comedy': 3,\n",
        " 'Fantasy': 4,\n",
        " 'Romance': 5,\n",
        " 'Drama': 6,\n",
        " 'Action': 7,\n",
        " 'Crime': 8,\n",
        " 'Thriller': 9,\n",
        " 'Horror': 10,\n",
        " 'Mystery': 11,\n",
        " 'Sci-Fi': 12,\n",
        " 'War': 13,\n",
        " 'Musical': 14,\n",
        " 'Documentary': 15,\n",
        " 'IMAX': 16,\n",
        " 'Western': 17,\n",
        " 'Film-Noir': 18,\n",
        " '(no genres listed)': 19}"
      ]
    },
    {
      "cell_type": "code",
      "execution_count": 64,
      "metadata": {
        "colab": {},
        "colab_type": "code",
        "id": "v0Bcc6CMK_GU"
      },
      "outputs": [],
      "source": [
        "idx_to_genre = {0: 'Adventure',\n",
        " 1: 'Animation',\n",
        " 2: 'Children',\n",
        " 3: 'Comedy',\n",
        " 4: 'Fantasy',\n",
        " 5: 'Romance',\n",
        " 6: 'Drama',\n",
        " 7: 'Action',\n",
        " 8: 'Crime',\n",
        " 9: 'Thriller',\n",
        " 10: 'Horror',\n",
        " 11: 'Mystery',\n",
        " 12: 'Sci-Fi',\n",
        " 13: 'War',\n",
        " 14: 'Musical',\n",
        " 15: 'Documentary',\n",
        " 16: 'IMAX',\n",
        " 17: 'Western',\n",
        " 18: 'Film-Noir',\n",
        " 19: '(no genres listed)'}"
      ]
    },
    {
      "cell_type": "code",
      "execution_count": 68,
      "metadata": {
        "colab": {},
        "colab_type": "code",
        "id": "21VUn6yxK_GW"
      },
      "outputs": [],
      "source": [
        "movies['tagline'] = movies['tagline'].fillna('')\n",
        "movies['description_genre'] = movies['overview'] + movies['tagline'] + 2*movies['genres']\n",
        "movies['description_genre'] = movies['description_genre'].fillna('')"
      ]
    },
    {
      "cell_type": "code",
      "execution_count": 29,
      "metadata": {
        "colab": {},
        "colab_type": "code",
        "id": "hucL4jXpK_GY",
        "scrolled": true
      },
      "outputs": [],
      "source": [
        "tf_new = TfidfVectorizer(analyzer='word', ngram_range=(1, 2), min_df=0.0, stop_words='english')\n",
        "tfidf_matrix_new = tf_new.fit_transform(movies['description_genre'])"
      ]
    },
    {
      "cell_type": "code",
      "execution_count": 30,
      "metadata": {
        "colab": {},
        "colab_type": "code",
        "id": "P4TCxmlPK_Ga"
      },
      "outputs": [],
      "source": [
        "cosine_sim_new = linear_kernel(tfidf_matrix_new, tfidf_matrix_new)"
      ]
    },
    {
      "cell_type": "code",
      "execution_count": 31,
      "metadata": {
        "colab": {},
        "colab_type": "code",
        "id": "fnOI4bBPK_Gc",
        "outputId": "f1a0fa6a-66ad-4dd1-c6ad-ca7a9e630b87"
      },
      "outputs": [
        {
          "data": {
            "text/plain": [
              "title\n",
              "Avatar                                      0\n",
              "Pirates of the Caribbean: At World's End    1\n",
              "dtype: int64"
            ]
          },
          "execution_count": 31,
          "metadata": {},
          "output_type": "execute_result"
        }
      ],
      "source": [
        "movies = movies.reset_index()\n",
        "titles = movies['title']\n",
        "indices = pd.Series(movies.index, index=movies['title'])\n",
        "indices.head(2)"
      ]
    },
    {
      "cell_type": "code",
      "execution_count": 73,
      "metadata": {
        "colab": {},
        "colab_type": "code",
        "id": "6W0GGFCrK_Gd"
      },
      "outputs": [],
      "source": [
        "def get_recommendations_new(title):\n",
        "    idx = indices[title]\n",
        "    if type(idx) != np.int64:\n",
        "        if len(idx)>1:\n",
        "            print(\"ALERT: Multiple values\")\n",
        "            idx = idx[0]\n",
        "    sim_scores = list(enumerate(cosine_sim_new[idx]))\n",
        "    sim_scores = sorted(sim_scores, key=lambda x: x[1], reverse=True)\n",
        "    sim_scores = sim_scores[1:11]\n",
        "    movie_indices = [i[0] for i in sim_scores]\n",
        "    return movies['id'].iloc[movie_indices]"
      ]
    },
    {
      "cell_type": "markdown",
      "metadata": {
        "colab_type": "text",
        "id": "9s7dEevLc_7y"
      },
      "source": [
        "##### Popularity model"
      ]
    },
    {
      "cell_type": "code",
      "execution_count": 76,
      "metadata": {
        "colab": {},
        "colab_type": "code",
        "id": "DvRGA0r5qbXg"
      },
      "outputs": [],
      "source": [
        "def genre_based_popularity(genre):\n",
        "    mask = movies.genres.apply(lambda x: genre in x)\n",
        "    filtered_movie = movies[mask]\n",
        "    filtered_movie = filtered_movie.sort_values(by='popularity', ascending=False)\n",
        "#     filtered_movie = filtered_movie.sort_values(by='wr', ascending=False)\n",
        "    return filtered_movie['id'].head(10).values.tolist() \n",
        "\n",
        "# genre_based_popularity('Animation')[['title', 'popularity']].head(25)"
      ]
    },
    {
      "cell_type": "code",
      "execution_count": 34,
      "metadata": {
        "colab": {},
        "colab_type": "code",
        "id": "tvDhVPC1rhqq",
        "scrolled": true
      },
      "outputs": [],
      "source": [
        "user_info = pd.read_csv('../demo/preproc_data/user_info.csv')"
      ]
    },
    {
      "cell_type": "code",
      "execution_count": 35,
      "metadata": {
        "colab": {},
        "colab_type": "code",
        "id": "R0GpH8fUK_Gk"
      },
      "outputs": [],
      "source": [
        "user_info['user_vector'] = user_info['user_vector'].apply(lambda x: x.replace('[', ' ').replace(']', ' ').strip().split())\n",
        "user_info['user_vector'] = user_info['user_vector'].apply(lambda x: np.asarray(x).astype(float))\n"
      ]
    },
    {
      "cell_type": "code",
      "execution_count": 36,
      "metadata": {
        "colab": {},
        "colab_type": "code",
        "id": "ttzhKVtNrqdZ"
      },
      "outputs": [],
      "source": [
        "def user_top_genre(userId):\n",
        "    user_vec = user_info['user_vector'][user_info['userId'] == userId].values[0].copy()\n",
        "    print(\"User Vector: \", user_vec)\n",
        "    top_genre_indices = np.flip(np.argsort(user_vec))\n",
        "    genre_list = []\n",
        "    for i in top_genre_indices[:3]:\n",
        "        genre_list.append(idx_to_genre[i])\n",
        "    return genre_list"
      ]
    },
    {
      "cell_type": "code",
      "execution_count": 37,
      "metadata": {
        "colab": {},
        "colab_type": "code",
        "id": "1jc3uWHRK_Go",
        "outputId": "45c629dd-5cfe-41bd-adb0-a4205ae73ab3"
      },
      "outputs": [
        {
          "name": "stdout",
          "output_type": "stream",
          "text": [
            "User Vector:  [4.43076923 4.72727273 4.64705882 4.26086957 4.28947368 4.22727273\n",
            " 4.56       4.2972973  4.35135135 4.11363636 3.375      4.\n",
            " 4.23529412 4.44444444 4.76470588 0.         0.         4.25\n",
            " 5.         0.        ]\n"
          ]
        },
        {
          "data": {
            "text/plain": [
              "['Film-Noir', 'Musical', 'Animation']"
            ]
          },
          "execution_count": 37,
          "metadata": {},
          "output_type": "execute_result"
        }
      ],
      "source": [
        "user_top_genre(1)"
      ]
    },
    {
      "cell_type": "markdown",
      "metadata": {
        "colab_type": "text",
        "id": "MVMftu50dFrE"
      },
      "source": [
        "##### Hybrid model"
      ]
    },
    {
      "cell_type": "code",
      "execution_count": 38,
      "metadata": {
        "colab": {},
        "colab_type": "code",
        "id": "gXcnBZNned4e"
      },
      "outputs": [],
      "source": [
        "knn_baseline = dump.load('../demo/models/KnnBaseline_model')\n",
        "svdpp = dump.load('../demo/models/svdpp_model')"
      ]
    },
    {
      "cell_type": "code",
      "execution_count": 39,
      "metadata": {
        "colab": {},
        "colab_type": "code",
        "id": "tcerU3NFgpy1"
      },
      "outputs": [],
      "source": [
        "# List of users in testing data:\n",
        "user_list = testdf['userId'].unique()"
      ]
    },
    {
      "cell_type": "code",
      "execution_count": 40,
      "metadata": {
        "colab": {
          "base_uri": "https://localhost:8080/",
          "height": 166
        },
        "colab_type": "code",
        "id": "gRY48Y-uiwGv",
        "outputId": "35b1d87c-8479-4e92-c701-dfa7aadab70a"
      },
      "outputs": [
        {
          "data": {
            "text/html": [
              "<div>\n",
              "<style scoped>\n",
              "    .dataframe tbody tr th:only-of-type {\n",
              "        vertical-align: middle;\n",
              "    }\n",
              "\n",
              "    .dataframe tbody tr th {\n",
              "        vertical-align: top;\n",
              "    }\n",
              "\n",
              "    .dataframe thead th {\n",
              "        text-align: right;\n",
              "    }\n",
              "</style>\n",
              "<table border=\"1\" class=\"dataframe\">\n",
              "  <thead>\n",
              "    <tr style=\"text-align: right;\">\n",
              "      <th></th>\n",
              "      <th>userId</th>\n",
              "      <th>movieId</th>\n",
              "      <th>rating</th>\n",
              "      <th>timestamp</th>\n",
              "      <th>genres</th>\n",
              "      <th>tag</th>\n",
              "    </tr>\n",
              "  </thead>\n",
              "  <tbody>\n",
              "    <tr>\n",
              "      <th>1745</th>\n",
              "      <td>60</td>\n",
              "      <td>318</td>\n",
              "      <td>4.0</td>\n",
              "      <td>1393542053</td>\n",
              "      <td>['Crime', 'Drama']</td>\n",
              "      <td>[]</td>\n",
              "    </tr>\n",
              "    <tr>\n",
              "      <th>1746</th>\n",
              "      <td>60</td>\n",
              "      <td>805</td>\n",
              "      <td>4.0</td>\n",
              "      <td>1393541754</td>\n",
              "      <td>['Drama', 'Thriller']</td>\n",
              "      <td>[]</td>\n",
              "    </tr>\n",
              "    <tr>\n",
              "      <th>1747</th>\n",
              "      <td>60</td>\n",
              "      <td>1242</td>\n",
              "      <td>4.0</td>\n",
              "      <td>1393541757</td>\n",
              "      <td>['Drama', 'War']</td>\n",
              "      <td>[]</td>\n",
              "    </tr>\n",
              "    <tr>\n",
              "      <th>1748</th>\n",
              "      <td>60</td>\n",
              "      <td>1562</td>\n",
              "      <td>3.0</td>\n",
              "      <td>1393541892</td>\n",
              "      <td>['Action', 'Adventure', 'Fantasy', 'Thriller']</td>\n",
              "      <td>[]</td>\n",
              "    </tr>\n",
              "  </tbody>\n",
              "</table>\n",
              "</div>"
            ],
            "text/plain": [
              "      userId  movieId  rating   timestamp  \\\n",
              "1745      60      318     4.0  1393542053   \n",
              "1746      60      805     4.0  1393541754   \n",
              "1747      60     1242     4.0  1393541757   \n",
              "1748      60     1562     3.0  1393541892   \n",
              "\n",
              "                                              genres tag  \n",
              "1745                              ['Crime', 'Drama']  []  \n",
              "1746                           ['Drama', 'Thriller']  []  \n",
              "1747                                ['Drama', 'War']  []  \n",
              "1748  ['Action', 'Adventure', 'Fantasy', 'Thriller']  []  "
            ]
          },
          "execution_count": 40,
          "metadata": {},
          "output_type": "execute_result"
        }
      ],
      "source": [
        "# type(testdf['userId'][0])\n",
        "test_movies = testdf[testdf['userId'] == 60]\n",
        "test_movies.head()"
      ]
    },
    {
      "cell_type": "code",
      "execution_count": 69,
      "metadata": {
        "colab": {},
        "colab_type": "code",
        "id": "nh3JJEIKfnkM"
      },
      "outputs": [],
      "source": [
        "# Combined model predicion on testing data, using top movies to generate more movies based on movie similarity and popularity\n",
        "\n",
        "def hybrid(userId):\n",
        "    user_movies = testdf[testdf['userId'] == userId]\n",
        "    user_movies['est'] = user_movies['movieId'].apply(lambda x: 0.6*knnbaseline_algo.predict(userId,x).est + 0.4*svdpp_algo.predict(userId, x).est)    \n",
        "    user_movies = user_movies.sort_values(by ='est', ascending=False).head(4)\n",
        "    user_movies['Model'] = 'SVD + CF'\n",
        "#     user_movies = user_movies['movieId'].values.tolist()\n",
        "#     print(\"User liked movies list: \", user_movies)\n",
        "    \n",
        "    recommend_list = user_movies[['movieId', 'est', 'Model']]\n",
        "    print(recommend_list.head())\n",
        "\n",
        "#     top_movie = user_movies['movieId'].iloc[0]\n",
        "#     print(\"Top movie id\", top_movie)\n",
        "#     top_movie_title = movies['title'][movies['movieId'] == top_movie].values[0]\n",
        "#     print(\"Top movie title\", top_movie_title)\n",
        "\n",
        "    \n",
        "    movie_list = recommend_list['movieId'].values.tolist()\n",
        "    print(movie_list)\n",
        "    sim_movies_list = []\n",
        "    for movie_id in movie_list:\n",
        "        # Call content based \n",
        "        # movie_title = movies['title'][movies['id'] == movie_id].values[0]\n",
        "        \n",
        "        # NOTE: hardcode\n",
        "        movie_title = \"Avatar\"\n",
        "        sim_movies = get_recommendations_new(movie_title)\n",
        "#         print(sim_movies.values.tolist())\n",
        "        sim_movies_list.extend(sim_movies)\n",
        "    \n",
        "    \n",
        "    # Compute ratings for the popular movies\n",
        "    for movie_id in sim_movies_list:\n",
        "        pred_rating = 0.6*knnbaseline_algo.predict(userId, movie_id).est + 0.4*svdpp_algo.predict(userId, movie_id).est\n",
        "        row_df = pd.DataFrame([[movie_id, pred_rating, 'Movie similarity']], columns=['movieId', 'est','Model'])\n",
        "        recommend_list = pd.concat([recommend_list, row_df], ignore_index=True)\n",
        "    \n",
        "    # Popular based movies\n",
        "    top_genre_list = user_top_genre(userId)\n",
        "    print(\"User top genre list: \", top_genre_list)\n",
        "    \n",
        "    popular_movies = []\n",
        "    for top_genre in top_genre_list:\n",
        "        popular_movies.extend(genre_based_popularity(top_genre))\n",
        "    print(\"Final list: \", popular_movies)\n",
        "    \n",
        "    # Compute ratings for the popular movies\n",
        "    for movie_id in popular_movies:\n",
        "        pred_rating = 0.6*knnbaseline_algo.predict(userId, movie_id).est + 0.4*svdpp_algo.predict(userId, movie_id).est\n",
        "        row_df = pd.DataFrame([[movie_id, pred_rating, 'Popularity']], columns=['movieId', 'est','Model'])\n",
        "        recommend_list = pd.concat([recommend_list, row_df], ignore_index=True)\n",
        "    recommend_list = recommend_list.drop_duplicates(subset=['movieId'])\n",
        "    train_movie_list = traindf[traindf['userId']==userId]['movieId'].values.tolist()\n",
        "    \n",
        "    # Remove movies in training for this user\n",
        "    mask = recommend_list.movieId.apply(lambda x: x not in train_movie_list)\n",
        "    recommend_list = recommend_list[mask]\n",
        "    \n",
        "    return recommend_list"
      ]
    },
    {
      "cell_type": "code",
      "execution_count": 42,
      "metadata": {
        "colab": {},
        "colab_type": "code",
        "id": "ZDeKwXu3K_Gy",
        "outputId": "577b321d-593a-4450-a42f-afa244789b1c"
      },
      "outputs": [
        {
          "data": {
            "text/html": [
              "<div>\n",
              "<style scoped>\n",
              "    .dataframe tbody tr th:only-of-type {\n",
              "        vertical-align: middle;\n",
              "    }\n",
              "\n",
              "    .dataframe tbody tr th {\n",
              "        vertical-align: top;\n",
              "    }\n",
              "\n",
              "    .dataframe thead th {\n",
              "        text-align: right;\n",
              "    }\n",
              "</style>\n",
              "<table border=\"1\" class=\"dataframe\">\n",
              "  <thead>\n",
              "    <tr style=\"text-align: right;\">\n",
              "      <th></th>\n",
              "      <th>userId</th>\n",
              "      <th>movieId</th>\n",
              "      <th>rating</th>\n",
              "      <th>timestamp</th>\n",
              "      <th>genres</th>\n",
              "      <th>tag</th>\n",
              "    </tr>\n",
              "  </thead>\n",
              "  <tbody>\n",
              "    <tr>\n",
              "      <th>66038</th>\n",
              "      <td>524</td>\n",
              "      <td>589</td>\n",
              "      <td>5.0</td>\n",
              "      <td>851608875</td>\n",
              "      <td>['Action', 'Sci-Fi']</td>\n",
              "      <td>[]</td>\n",
              "    </tr>\n",
              "    <tr>\n",
              "      <th>66000</th>\n",
              "      <td>524</td>\n",
              "      <td>151</td>\n",
              "      <td>5.0</td>\n",
              "      <td>851608839</td>\n",
              "      <td>['Action', 'Drama', 'Romance', 'War']</td>\n",
              "      <td>[]</td>\n",
              "    </tr>\n",
              "    <tr>\n",
              "      <th>66024</th>\n",
              "      <td>524</td>\n",
              "      <td>457</td>\n",
              "      <td>5.0</td>\n",
              "      <td>851608781</td>\n",
              "      <td>['Thriller']</td>\n",
              "      <td>[]</td>\n",
              "    </tr>\n",
              "    <tr>\n",
              "      <th>66019</th>\n",
              "      <td>524</td>\n",
              "      <td>377</td>\n",
              "      <td>5.0</td>\n",
              "      <td>851608745</td>\n",
              "      <td>['Action', 'Romance', 'Thriller']</td>\n",
              "      <td>[]</td>\n",
              "    </tr>\n",
              "    <tr>\n",
              "      <th>66015</th>\n",
              "      <td>524</td>\n",
              "      <td>367</td>\n",
              "      <td>5.0</td>\n",
              "      <td>851608818</td>\n",
              "      <td>['Action', 'Comedy', 'Crime', 'Fantasy']</td>\n",
              "      <td>[]</td>\n",
              "    </tr>\n",
              "    <tr>\n",
              "      <th>...</th>\n",
              "      <td>...</td>\n",
              "      <td>...</td>\n",
              "      <td>...</td>\n",
              "      <td>...</td>\n",
              "      <td>...</td>\n",
              "      <td>...</td>\n",
              "    </tr>\n",
              "    <tr>\n",
              "      <th>66057</th>\n",
              "      <td>524</td>\n",
              "      <td>1027</td>\n",
              "      <td>2.0</td>\n",
              "      <td>851609037</td>\n",
              "      <td>['Adventure', 'Drama']</td>\n",
              "      <td>[]</td>\n",
              "    </tr>\n",
              "    <tr>\n",
              "      <th>66060</th>\n",
              "      <td>524</td>\n",
              "      <td>1097</td>\n",
              "      <td>2.0</td>\n",
              "      <td>851609016</td>\n",
              "      <td>['Children', 'Drama', 'Sci-Fi']</td>\n",
              "      <td>[]</td>\n",
              "    </tr>\n",
              "    <tr>\n",
              "      <th>66003</th>\n",
              "      <td>524</td>\n",
              "      <td>173</td>\n",
              "      <td>1.0</td>\n",
              "      <td>851609191</td>\n",
              "      <td>['Action', 'Crime', 'Sci-Fi']</td>\n",
              "      <td>[]</td>\n",
              "    </tr>\n",
              "    <tr>\n",
              "      <th>65988</th>\n",
              "      <td>524</td>\n",
              "      <td>12</td>\n",
              "      <td>1.0</td>\n",
              "      <td>852404800</td>\n",
              "      <td>['Comedy', 'Horror']</td>\n",
              "      <td>[]</td>\n",
              "    </tr>\n",
              "    <tr>\n",
              "      <th>66011</th>\n",
              "      <td>524</td>\n",
              "      <td>318</td>\n",
              "      <td>1.0</td>\n",
              "      <td>851608745</td>\n",
              "      <td>['Crime', 'Drama']</td>\n",
              "      <td>[]</td>\n",
              "    </tr>\n",
              "  </tbody>\n",
              "</table>\n",
              "<p>105 rows × 6 columns</p>\n",
              "</div>"
            ],
            "text/plain": [
              "       userId  movieId  rating  timestamp  \\\n",
              "66038     524      589     5.0  851608875   \n",
              "66000     524      151     5.0  851608839   \n",
              "66024     524      457     5.0  851608781   \n",
              "66019     524      377     5.0  851608745   \n",
              "66015     524      367     5.0  851608818   \n",
              "...       ...      ...     ...        ...   \n",
              "66057     524     1027     2.0  851609037   \n",
              "66060     524     1097     2.0  851609016   \n",
              "66003     524      173     1.0  851609191   \n",
              "65988     524       12     1.0  852404800   \n",
              "66011     524      318     1.0  851608745   \n",
              "\n",
              "                                         genres tag  \n",
              "66038                      ['Action', 'Sci-Fi']  []  \n",
              "66000     ['Action', 'Drama', 'Romance', 'War']  []  \n",
              "66024                              ['Thriller']  []  \n",
              "66019         ['Action', 'Romance', 'Thriller']  []  \n",
              "66015  ['Action', 'Comedy', 'Crime', 'Fantasy']  []  \n",
              "...                                         ...  ..  \n",
              "66057                    ['Adventure', 'Drama']  []  \n",
              "66060           ['Children', 'Drama', 'Sci-Fi']  []  \n",
              "66003             ['Action', 'Crime', 'Sci-Fi']  []  \n",
              "65988                      ['Comedy', 'Horror']  []  \n",
              "66011                        ['Crime', 'Drama']  []  \n",
              "\n",
              "[105 rows x 6 columns]"
            ]
          },
          "execution_count": 42,
          "metadata": {},
          "output_type": "execute_result"
        }
      ],
      "source": [
        "# traindf[traindf['userId'] == 9].sort_values(by = 'rating', ascending = False)\n",
        "traindf[traindf['userId'] == 524].sort_values(by = 'rating', ascending = False)"
      ]
    },
    {
      "cell_type": "code",
      "execution_count": 43,
      "metadata": {
        "colab": {},
        "colab_type": "code",
        "id": "Y_QC1vZFK_G0",
        "outputId": "bc409d9a-36fb-48a3-9453-c219239fdfd9"
      },
      "outputs": [
        {
          "data": {
            "text/html": [
              "<div>\n",
              "<style scoped>\n",
              "    .dataframe tbody tr th:only-of-type {\n",
              "        vertical-align: middle;\n",
              "    }\n",
              "\n",
              "    .dataframe tbody tr th {\n",
              "        vertical-align: top;\n",
              "    }\n",
              "\n",
              "    .dataframe thead th {\n",
              "        text-align: right;\n",
              "    }\n",
              "</style>\n",
              "<table border=\"1\" class=\"dataframe\">\n",
              "  <thead>\n",
              "    <tr style=\"text-align: right;\">\n",
              "      <th></th>\n",
              "      <th>userId</th>\n",
              "      <th>movieId</th>\n",
              "      <th>rating</th>\n",
              "      <th>timestamp</th>\n",
              "      <th>genres</th>\n",
              "      <th>tag</th>\n",
              "    </tr>\n",
              "  </thead>\n",
              "  <tbody>\n",
              "    <tr>\n",
              "      <th>17795</th>\n",
              "      <td>574</td>\n",
              "      <td>47</td>\n",
              "      <td>5.0</td>\n",
              "      <td>834634527</td>\n",
              "      <td>['Mystery', 'Thriller']</td>\n",
              "      <td>[]</td>\n",
              "    </tr>\n",
              "    <tr>\n",
              "      <th>17796</th>\n",
              "      <td>574</td>\n",
              "      <td>296</td>\n",
              "      <td>3.0</td>\n",
              "      <td>834634383</td>\n",
              "      <td>['Comedy', 'Crime', 'Drama', 'Thriller']</td>\n",
              "      <td>[]</td>\n",
              "    </tr>\n",
              "    <tr>\n",
              "      <th>17797</th>\n",
              "      <td>574</td>\n",
              "      <td>316</td>\n",
              "      <td>4.0</td>\n",
              "      <td>834634443</td>\n",
              "      <td>['Action', 'Adventure', 'Sci-Fi']</td>\n",
              "      <td>[]</td>\n",
              "    </tr>\n",
              "    <tr>\n",
              "      <th>17798</th>\n",
              "      <td>574</td>\n",
              "      <td>339</td>\n",
              "      <td>4.0</td>\n",
              "      <td>834634464</td>\n",
              "      <td>['Comedy', 'Romance']</td>\n",
              "      <td>[]</td>\n",
              "    </tr>\n",
              "    <tr>\n",
              "      <th>17799</th>\n",
              "      <td>574</td>\n",
              "      <td>588</td>\n",
              "      <td>5.0</td>\n",
              "      <td>834634408</td>\n",
              "      <td>['Adventure', 'Animation', 'Children', 'Comedy...</td>\n",
              "      <td>[]</td>\n",
              "    </tr>\n",
              "  </tbody>\n",
              "</table>\n",
              "</div>"
            ],
            "text/plain": [
              "       userId  movieId  rating  timestamp  \\\n",
              "17795     574       47     5.0  834634527   \n",
              "17796     574      296     3.0  834634383   \n",
              "17797     574      316     4.0  834634443   \n",
              "17798     574      339     4.0  834634464   \n",
              "17799     574      588     5.0  834634408   \n",
              "\n",
              "                                                  genres tag  \n",
              "17795                            ['Mystery', 'Thriller']  []  \n",
              "17796           ['Comedy', 'Crime', 'Drama', 'Thriller']  []  \n",
              "17797                  ['Action', 'Adventure', 'Sci-Fi']  []  \n",
              "17798                              ['Comedy', 'Romance']  []  \n",
              "17799  ['Adventure', 'Animation', 'Children', 'Comedy...  []  "
            ]
          },
          "execution_count": 43,
          "metadata": {},
          "output_type": "execute_result"
        }
      ],
      "source": [
        "testdf[testdf['userId'] == 574]\n",
        "# testdf[testdf['userId'] == 574]\n",
        "# testdf[testdf['userId'] == 576]"
      ]
    },
    {
      "cell_type": "code",
      "execution_count": 87,
      "metadata": {
        "colab": {},
        "colab_type": "code",
        "id": "3nSK79AUK_G2",
        "outputId": "0e2be7bd-cd83-4b67-a38f-543b43bbc882",
        "scrolled": true
      },
      "outputs": [
        {
          "name": "stdout",
          "output_type": "stream",
          "text": [
            "       movieId       est     Model\n",
            "17808     1231  3.674620  SVD + CF\n",
            "17807     1188  3.473315  SVD + CF\n",
            "17809     1347  3.224381  SVD + CF\n",
            "17810     2826  2.861990  SVD + CF\n",
            "[1231, 1188, 1347, 2826]\n",
            "User Vector:  [3.3        3.5        4.         3.44444444 3.625      3.\n",
            " 3.375      3.         4.75       3.8        3.66666667 3.5\n",
            " 2.85714286 0.         0.         0.         0.         0.\n",
            " 0.         0.        ]\n",
            "User top genre list:  ['Crime', 'Children', 'Thriller']\n",
            "Final list:  [155, 238, 278, 680, 198184, 272, 49026, 10764, 206647, 240, 76341, 135397, 119450, 131631, 87101, 155, 27205, 205596, 210577, 61791]\n"
          ]
        },
        {
          "name": "stderr",
          "output_type": "stream",
          "text": [
            "/var/folders/0n/_w554znn6f7fzgsl51tnyk0r0000gn/T/ipykernel_87726/2220081348.py:5: SettingWithCopyWarning: \n",
            "A value is trying to be set on a copy of a slice from a DataFrame.\n",
            "Try using .loc[row_indexer,col_indexer] = value instead\n",
            "\n",
            "See the caveats in the documentation: https://pandas.pydata.org/pandas-docs/stable/user_guide/indexing.html#returning-a-view-versus-a-copy\n",
            "  user_movies['est'] = user_movies['movieId'].apply(lambda x: 0.6*knnbaseline_algo.predict(userId,x).est + 0.4*svdpp_algo.predict(userId, x).est)\n"
          ]
        }
      ],
      "source": [
        "# movie_ids = hybrid(1)\n",
        "# movie_ids = hybrid(2)\n",
        "# movie_ids = hybrid(574)\n",
        "# movie_ids = hybrid(9)\n",
        "movie_ids = hybrid(576)"
      ]
    },
    {
      "cell_type": "code",
      "execution_count": 81,
      "metadata": {
        "colab": {},
        "colab_type": "code",
        "id": "Xps-jxbrK_G5"
      },
      "outputs": [],
      "source": [
        "def get_title(x):\n",
        "    mid = x['movieId']\n",
        "    return movies['title'][movies['id'] == mid].values"
      ]
    },
    {
      "cell_type": "code",
      "execution_count": 82,
      "metadata": {
        "colab": {},
        "colab_type": "code",
        "id": "yqKlKMEKK_G7"
      },
      "outputs": [],
      "source": [
        "def get_genre(x):\n",
        "    mid = x['movieId']\n",
        "    return movies['genres'][movies['id'] == mid].values"
      ]
    },
    {
      "cell_type": "code",
      "execution_count": 83,
      "metadata": {
        "colab": {},
        "colab_type": "code",
        "id": "kWHg99PXK_G9"
      },
      "outputs": [],
      "source": [
        "movie_ids['title'] = movie_ids.apply(get_title, axis=1)\n",
        "movie_ids['genre'] = movie_ids.apply(get_genre, axis=1)"
      ]
    },
    {
      "cell_type": "code",
      "execution_count": 84,
      "metadata": {
        "colab": {},
        "colab_type": "code",
        "id": "cBJMuis9K_G_",
        "outputId": "f55c643d-697b-4639-c4aa-4e663d3b2db0",
        "scrolled": true
      },
      "outputs": [
        {
          "data": {
            "text/html": [
              "<div>\n",
              "<style scoped>\n",
              "    .dataframe tbody tr th:only-of-type {\n",
              "        vertical-align: middle;\n",
              "    }\n",
              "\n",
              "    .dataframe tbody tr th {\n",
              "        vertical-align: top;\n",
              "    }\n",
              "\n",
              "    .dataframe thead th {\n",
              "        text-align: right;\n",
              "    }\n",
              "</style>\n",
              "<table border=\"1\" class=\"dataframe\">\n",
              "  <thead>\n",
              "    <tr style=\"text-align: right;\">\n",
              "      <th></th>\n",
              "      <th>movieId</th>\n",
              "      <th>est</th>\n",
              "      <th>Model</th>\n",
              "      <th>title</th>\n",
              "      <th>genre</th>\n",
              "    </tr>\n",
              "  </thead>\n",
              "  <tbody>\n",
              "    <tr>\n",
              "      <th>0</th>\n",
              "      <td>527</td>\n",
              "      <td>5.000000</td>\n",
              "      <td>SVD + CF</td>\n",
              "      <td>[]</td>\n",
              "      <td>[]</td>\n",
              "    </tr>\n",
              "    <tr>\n",
              "      <th>1</th>\n",
              "      <td>50</td>\n",
              "      <td>4.919080</td>\n",
              "      <td>SVD + CF</td>\n",
              "      <td>[]</td>\n",
              "      <td>[]</td>\n",
              "    </tr>\n",
              "    <tr>\n",
              "      <th>2</th>\n",
              "      <td>296</td>\n",
              "      <td>4.915235</td>\n",
              "      <td>SVD + CF</td>\n",
              "      <td>[Terminator 3: Rise of the Machines]</td>\n",
              "      <td>[[{\"id\": 28, \"name\": \"Action\"}, {\"id\": 53, \"na...</td>\n",
              "    </tr>\n",
              "    <tr>\n",
              "      <th>3</th>\n",
              "      <td>2028</td>\n",
              "      <td>4.912835</td>\n",
              "      <td>SVD + CF</td>\n",
              "      <td>[]</td>\n",
              "      <td>[]</td>\n",
              "    </tr>\n",
              "    <tr>\n",
              "      <th>5</th>\n",
              "      <td>18</td>\n",
              "      <td>4.624252</td>\n",
              "      <td>Movie similarity</td>\n",
              "      <td>[The Fifth Element]</td>\n",
              "      <td>[[{\"id\": 12, \"name\": \"Adventure\"}, {\"id\": 14, ...</td>\n",
              "    </tr>\n",
              "    <tr>\n",
              "      <th>13</th>\n",
              "      <td>127585</td>\n",
              "      <td>4.201521</td>\n",
              "      <td>Movie similarity</td>\n",
              "      <td>[X-Men: Days of Future Past]</td>\n",
              "      <td>[[{\"id\": 28, \"name\": \"Action\"}, {\"id\": 12, \"na...</td>\n",
              "    </tr>\n",
              "    <tr>\n",
              "      <th>51</th>\n",
              "      <td>20352</td>\n",
              "      <td>4.201521</td>\n",
              "      <td>Popularity</td>\n",
              "      <td>[Despicable Me]</td>\n",
              "      <td>[[{\"id\": 16, \"name\": \"Animation\"}, {\"id\": 1075...</td>\n",
              "    </tr>\n",
              "    <tr>\n",
              "      <th>49</th>\n",
              "      <td>62177</td>\n",
              "      <td>4.201521</td>\n",
              "      <td>Popularity</td>\n",
              "      <td>[Brave]</td>\n",
              "      <td>[[{\"id\": 16, \"name\": \"Animation\"}, {\"id\": 12, ...</td>\n",
              "    </tr>\n",
              "    <tr>\n",
              "      <th>48</th>\n",
              "      <td>150540</td>\n",
              "      <td>4.201521</td>\n",
              "      <td>Popularity</td>\n",
              "      <td>[Inside Out]</td>\n",
              "      <td>[[{\"id\": 18, \"name\": \"Drama\"}, {\"id\": 35, \"nam...</td>\n",
              "    </tr>\n",
              "    <tr>\n",
              "      <th>47</th>\n",
              "      <td>93456</td>\n",
              "      <td>4.201521</td>\n",
              "      <td>Popularity</td>\n",
              "      <td>[Despicable Me 2]</td>\n",
              "      <td>[[{\"id\": 16, \"name\": \"Animation\"}, {\"id\": 35, ...</td>\n",
              "    </tr>\n",
              "  </tbody>\n",
              "</table>\n",
              "</div>"
            ],
            "text/plain": [
              "    movieId       est             Model                                 title  \\\n",
              "0       527  5.000000          SVD + CF                                    []   \n",
              "1        50  4.919080          SVD + CF                                    []   \n",
              "2       296  4.915235          SVD + CF  [Terminator 3: Rise of the Machines]   \n",
              "3      2028  4.912835          SVD + CF                                    []   \n",
              "5        18  4.624252  Movie similarity                   [The Fifth Element]   \n",
              "13   127585  4.201521  Movie similarity          [X-Men: Days of Future Past]   \n",
              "51    20352  4.201521        Popularity                       [Despicable Me]   \n",
              "49    62177  4.201521        Popularity                               [Brave]   \n",
              "48   150540  4.201521        Popularity                          [Inside Out]   \n",
              "47    93456  4.201521        Popularity                     [Despicable Me 2]   \n",
              "\n",
              "                                                genre  \n",
              "0                                                  []  \n",
              "1                                                  []  \n",
              "2   [[{\"id\": 28, \"name\": \"Action\"}, {\"id\": 53, \"na...  \n",
              "3                                                  []  \n",
              "5   [[{\"id\": 12, \"name\": \"Adventure\"}, {\"id\": 14, ...  \n",
              "13  [[{\"id\": 28, \"name\": \"Action\"}, {\"id\": 12, \"na...  \n",
              "51  [[{\"id\": 16, \"name\": \"Animation\"}, {\"id\": 1075...  \n",
              "49  [[{\"id\": 16, \"name\": \"Animation\"}, {\"id\": 12, ...  \n",
              "48  [[{\"id\": 18, \"name\": \"Drama\"}, {\"id\": 35, \"nam...  \n",
              "47  [[{\"id\": 16, \"name\": \"Animation\"}, {\"id\": 35, ...  "
            ]
          },
          "execution_count": 84,
          "metadata": {},
          "output_type": "execute_result"
        }
      ],
      "source": [
        "movie_ids.sort_values(by='est', ascending = False).head(10)"
      ]
    },
    {
      "cell_type": "code",
      "execution_count": null,
      "metadata": {
        "colab": {},
        "colab_type": "code",
        "id": "9tGGHCBeK_HB"
      },
      "outputs": [],
      "source": []
    }
  ],
  "metadata": {
    "colab": {
      "collapsed_sections": [],
      "name": "hybrid_model.ipynb",
      "provenance": []
    },
    "kernelspec": {
      "display_name": ".venv",
      "language": "python",
      "name": "python3"
    },
    "language_info": {
      "codemirror_mode": {
        "name": "ipython",
        "version": 3
      },
      "file_extension": ".py",
      "mimetype": "text/x-python",
      "name": "python",
      "nbconvert_exporter": "python",
      "pygments_lexer": "ipython3",
      "version": "3.11.12"
    }
  },
  "nbformat": 4,
  "nbformat_minor": 0
}
